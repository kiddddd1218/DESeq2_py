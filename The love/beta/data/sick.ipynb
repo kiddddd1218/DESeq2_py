{
 "cells": [
  {
   "cell_type": "code",
   "execution_count": 1,
   "metadata": {},
   "outputs": [],
   "source": [
    "import pandas as pd\n",
    "import numpy as np"
   ]
  },
  {
   "cell_type": "code",
   "execution_count": 17,
   "metadata": {},
   "outputs": [],
   "source": [
    "inter1 = pd.read_csv('Intercept.csv')['x']\n",
    "inter2 = pd.read_csv('betaMatrix.csv')['0']\n"
   ]
  },
  {
   "cell_type": "code",
   "execution_count": 15,
   "metadata": {},
   "outputs": [
    {
     "data": {
      "text/plain": [
       "0        5.116898\n",
       "1             NaN\n",
       "2        2.736147\n",
       "3        0.838124\n",
       "4       -0.345953\n",
       "           ...   \n",
       "24650         NaN\n",
       "24651         NaN\n",
       "24652         NaN\n",
       "24653         NaN\n",
       "24654         NaN\n",
       "Name: x, Length: 24655, dtype: float64"
      ]
     },
     "execution_count": 15,
     "metadata": {},
     "output_type": "execute_result"
    }
   ],
   "source": [
    "inter1"
   ]
  },
  {
   "cell_type": "code",
   "execution_count": 18,
   "metadata": {},
   "outputs": [
    {
     "data": {
      "text/plain": [
       "0        3.448254\n",
       "1             NaN\n",
       "2        2.163608\n",
       "3       -0.344983\n",
       "4       -0.467149\n",
       "           ...   \n",
       "24650         NaN\n",
       "24651         NaN\n",
       "24652         NaN\n",
       "24653         NaN\n",
       "24654         NaN\n",
       "Name: 0, Length: 24655, dtype: float64"
      ]
     },
     "execution_count": 18,
     "metadata": {},
     "output_type": "execute_result"
    }
   ],
   "source": [
    "inter2"
   ]
  },
  {
   "cell_type": "code",
   "execution_count": 27,
   "metadata": {},
   "outputs": [
    {
     "data": {
      "text/plain": [
       "False"
      ]
     },
     "execution_count": 27,
     "metadata": {},
     "output_type": "execute_result"
    }
   ],
   "source": [
    "(abs(inter1 - inter2) <=1e-3).any()"
   ]
  }
 ],
 "metadata": {
  "kernelspec": {
   "display_name": "Python 3.10.7 64-bit",
   "language": "python",
   "name": "python3"
  },
  "language_info": {
   "codemirror_mode": {
    "name": "ipython",
    "version": 3
   },
   "file_extension": ".py",
   "mimetype": "text/x-python",
   "name": "python",
   "nbconvert_exporter": "python",
   "pygments_lexer": "ipython3",
   "version": "3.10.7"
  },
  "orig_nbformat": 4,
  "vscode": {
   "interpreter": {
    "hash": "cad61ae8431c49f26e9fee3c9989b49482630e8d89b3df831c10155811824382"
   }
  }
 },
 "nbformat": 4,
 "nbformat_minor": 2
}
